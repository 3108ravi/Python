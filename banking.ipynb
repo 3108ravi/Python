{
 "cells": [
  {
   "cell_type": "code",
   "execution_count": 7,
   "id": "1a12d205",
   "metadata": {},
   "outputs": [
    {
     "name": "stdout",
     "output_type": "stream",
     "text": [
      "Press 1 to create a new account.\n",
      "Press 2 to deposite money to account.\n",
      "Press 3 to withdraw money from account.\n",
      "Press 4 to Quit.\n",
      "\n",
      "Select a operation : 4\n",
      "******************************************************************************************\n",
      "You quit the method, Thank you - Visit again.\n"
     ]
    }
   ],
   "source": [
    "import random\n",
    "a=\"*\"\n",
    "def create_account():\n",
    "    cus_name=str(input(\"Enter a full name: \"))\n",
    "    age=int(input(\"Enter your age: \"))\n",
    "    gender=str(input(\"Enter your gender: \"))\n",
    "    account_no=random.randint(1001426100,1001426400)\n",
    "    print(a*80)\n",
    "    print(\"Your account is created successfully\")\n",
    "    print(a*80)\n",
    "    print(\"Your new account details are as follows:-\")\n",
    "    print(\"Account holder name :-\",cus_name,\"\\nAccount holder age :-\",age,\"\\ngender:\",gender,\"\\naccount no :-\",account_no)\n",
    "def deposit():\n",
    "    name=str(input(\"Enter account holder name: \"))\n",
    "    account_no=int(input(\"Enter a account no. to deposit money: \"))\n",
    "    amount=int(input(\"Enter a amount to deposit: \"))\n",
    "    balance = random.randint(120450,225000)\n",
    "    print(a*80)\n",
    "    print(\"Money deposited successfully in account.\")\n",
    "    print(a*80)\n",
    "    print(\"Your account details are as follows :-\")\n",
    "    print(\"Amount of the account before depositing money:\",balance,\"\\nAmount of the account after depositing money:\",balance+amount)\n",
    "def withdraw():\n",
    "    name=str(input(\"Enter acoount holder name : \"))\n",
    "    account_no=int(input(\"Enter a account no. to withdraw money : \"))\n",
    "    amount=int(input(\"Enter a amount to withdraw : \"))\n",
    "    balance=random.randint(400000,625000)\n",
    "    print(a*50)\n",
    "    if amount<balance:\n",
    "        print(\"Money withdraw successfully from account please collect your cash.\")\n",
    "        print(a*80)\n",
    "        print(\"Your account details are as follows :-\")\n",
    "        print(\"Amount of the account before withdrawing money\",balance,\"\\nAmount of the account after withdrawing money:\",balance-amount)\n",
    "    else:\n",
    "        print(\"No sufficient balace available to withdraw money as per your request.\")\n",
    "while True:\n",
    "    print(\"Press 1 to create a new account.\")\n",
    "    print(\"Press 2 to deposite money to account.\")\n",
    "    print(\"Press 3 to withdraw money from account.\")\n",
    "    print(\"Press 4 to Quit.\")\n",
    "    print()\n",
    "    ch=int(input(\"Select a operation : \"))\n",
    "    print(a*90)\n",
    "    if ch==1:\n",
    "        create_account()\n",
    "    elif ch==2:\n",
    "        deposit()\n",
    "    elif ch==3:\n",
    "        withdraw()\n",
    "    elif ch==4:\n",
    "        print(\"You quit the method, Thank you - Visit again.\")\n",
    "        break\n",
    "    else:\n",
    "        print(\"You select the wrong method, plese select the correct method as per menu.\")\n",
    "    print(a*90)\n",
    "            "
   ]
  },
  {
   "cell_type": "code",
   "execution_count": null,
   "id": "9e7a6971",
   "metadata": {},
   "outputs": [],
   "source": []
  }
 ],
 "metadata": {
  "kernelspec": {
   "display_name": "Python 3",
   "language": "python",
   "name": "python3"
  },
  "language_info": {
   "codemirror_mode": {
    "name": "ipython",
    "version": 3
   },
   "file_extension": ".py",
   "mimetype": "text/x-python",
   "name": "python",
   "nbconvert_exporter": "python",
   "pygments_lexer": "ipython3",
   "version": "3.8.8"
  }
 },
 "nbformat": 4,
 "nbformat_minor": 5
}
