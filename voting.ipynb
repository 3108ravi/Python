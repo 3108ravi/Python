{
 "cells": [
  {
   "cell_type": "code",
   "execution_count": 1,
   "id": "d85c5081",
   "metadata": {},
   "outputs": [
    {
     "name": "stdout",
     "output_type": "stream",
     "text": [
      "enter vote for BJP:\n",
      "enter vote for Congress:\n",
      "enter vote for AAP:\n",
      "vote for members:b\n",
      "vote for members:c\n",
      "vote for members:c\n",
      "vote for members:a\n",
      "vote for members:a\n",
      "vote for members:a\n",
      "vote for members:a\n",
      "vote for members:\n",
      "total number of votes modi: 1\n",
      "total number of votes rahul: 2\n",
      "total number of votes arvind: 4\n",
      "arvind won the election 4\n"
     ]
    }
   ],
   "source": [
    "print(\"enter vote for BJP:\")\n",
    "print(\"enter vote for Congress:\")\n",
    "print(\"enter vote for AAP:\")\n",
    "BJP=0\n",
    "Congress=0\n",
    "AAP=0\n",
    "chk='b'\n",
    "while(chk.lower()=='b' or chk.lower()=='c' or chk.lower()=='a'):\n",
    "    chk=input(\"vote for members:\")\n",
    "    if (chk.lower()=='b'):\n",
    "        BJP+=1\n",
    "    elif (chk.lower()=='c'):\n",
    "        Congress+=1\n",
    "    elif (chk.lower()=='a'):\n",
    "        AAP+=1\n",
    "print(\"total number of votes modi:\",BJP)\n",
    "print(\"total number of votes rahul:\",Congress)\n",
    "print(\"total number of votes arvind:\",AAP)\n",
    "if BJP>Congress:\n",
    "    if BJP>AAP:\n",
    "        print(\"modiji won the election\",BJP)\n",
    "    else:\n",
    "        print(\"rahul won the election\",Congress)\n",
    "else:\n",
    "    if Congress>AAP:\n",
    "        print(\"rahul won the election\",Congress)\n",
    "    else:\n",
    "        print(\"arvind won the election\",AAP)\n",
    "    "
   ]
  },
  {
   "cell_type": "code",
   "execution_count": null,
   "id": "094f0731",
   "metadata": {},
   "outputs": [],
   "source": []
  },
  {
   "cell_type": "code",
   "execution_count": null,
   "id": "455cc550",
   "metadata": {},
   "outputs": [],
   "source": [
    "b"
   ]
  },
  {
   "cell_type": "code",
   "execution_count": null,
   "id": "72d69c88",
   "metadata": {},
   "outputs": [],
   "source": []
  }
 ],
 "metadata": {
  "kernelspec": {
   "display_name": "Python 3",
   "language": "python",
   "name": "python3"
  },
  "language_info": {
   "codemirror_mode": {
    "name": "ipython",
    "version": 3
   },
   "file_extension": ".py",
   "mimetype": "text/x-python",
   "name": "python",
   "nbconvert_exporter": "python",
   "pygments_lexer": "ipython3",
   "version": "3.8.8"
  }
 },
 "nbformat": 4,
 "nbformat_minor": 5
}
