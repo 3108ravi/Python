{
 "cells": [
  {
   "cell_type": "code",
   "execution_count": null,
   "id": "9ba3a183",
   "metadata": {},
   "outputs": [],
   "source": [
    "stock=30\n",
    "a=\"*\"\n",
    "ch=\"y\"\n",
    "while ch==\"y\" or ch==\"Y\":\n",
    "    num=int(input(\"quantity of candies:\"))\n",
    "    print(a*100)\n",
    "    if num<=stock:\n",
    "        for i in range(num):\n",
    "            print(\"candy\",end=\" \")\n",
    "        print(\"\\n\",a*100)\n",
    "        print(\"thanks for visiting\")\n",
    "        ch=input(\"want more candies(y/n)\")\n",
    "        stock=stock-num\n",
    "    elif num>=stock:\n",
    "        print(\"sorry!!,we dont have more candies\")\n",
    "        break\n",
    "   "
   ]
  }
 ],
 "metadata": {
  "kernelspec": {
   "display_name": "Python 3",
   "language": "python",
   "name": "python3"
  },
  "language_info": {
   "codemirror_mode": {
    "name": "ipython",
    "version": 3
   },
   "file_extension": ".py",
   "mimetype": "text/x-python",
   "name": "python",
   "nbconvert_exporter": "python",
   "pygments_lexer": "ipython3",
   "version": "3.8.8"
  }
 },
 "nbformat": 4,
 "nbformat_minor": 5
}
